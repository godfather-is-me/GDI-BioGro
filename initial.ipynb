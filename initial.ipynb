{
 "cells": [
  {
   "cell_type": "code",
   "execution_count": 1,
   "metadata": {},
   "outputs": [],
   "source": [
    "import pandas as pd\n",
    "import numpy as np\n",
    "import seaborn as sns\n",
    "import matplotlib.pyplot as plt"
   ]
  },
  {
   "cell_type": "code",
   "execution_count": 4,
   "metadata": {},
   "outputs": [],
   "source": [
    "import re\n",
    "import io"
   ]
  },
  {
   "cell_type": "code",
   "execution_count": 18,
   "metadata": {},
   "outputs": [],
   "source": [
    "with open(\"BioGroProds.csv\", 'r') as f:\n",
    "    data = f.read()\n",
    "\n",
    "df = pd.read_csv(io.StringIO(re.sub('\"\\s*\\n','\"',data)), delimiter=\";\")\n",
    "\n",
    "for col in df.columns:\n",
    "    if df[col].dtype == np.object_:\n",
    "        df[col] = df[col].str.replace('\\n',',')"
   ]
  },
  {
   "cell_type": "code",
   "execution_count": 19,
   "metadata": {},
   "outputs": [
    {
     "data": {
      "text/html": [
       "<div>\n",
       "<style scoped>\n",
       "    .dataframe tbody tr th:only-of-type {\n",
       "        vertical-align: middle;\n",
       "    }\n",
       "\n",
       "    .dataframe tbody tr th {\n",
       "        vertical-align: top;\n",
       "    }\n",
       "\n",
       "    .dataframe thead th {\n",
       "        text-align: right;\n",
       "    }\n",
       "</style>\n",
       "<table border=\"1\" class=\"dataframe\">\n",
       "  <thead>\n",
       "    <tr style=\"text-align: right;\">\n",
       "      <th></th>\n",
       "      <th>BioGro No</th>\n",
       "      <th>Licensee Name</th>\n",
       "      <th>Address</th>\n",
       "      <th>Input Name</th>\n",
       "      <th>Sub Type</th>\n",
       "      <th>Category</th>\n",
       "      <th>Expiry Date</th>\n",
       "    </tr>\n",
       "  </thead>\n",
       "  <tbody>\n",
       "    <tr>\n",
       "      <th>0</th>\n",
       "      <td>5441</td>\n",
       "      <td>FSP Australia</td>\n",
       "      <td>Octal Street,20,Brisbane, Yatala 4207</td>\n",
       "      <td>“Reggie Post” Innovative Intermediate Trellis ...</td>\n",
       "      <td>Farm Management</td>\n",
       "      <td>Crop Husbandry / Orchard Management</td>\n",
       "      <td>31.07.2023</td>\n",
       "    </tr>\n",
       "    <tr>\n",
       "      <th>1</th>\n",
       "      <td>2933</td>\n",
       "      <td>PGG Wrightson (Fruitfed Supplies)</td>\n",
       "      <td>Westwood Avenue,20,Blenheim, Springlands</td>\n",
       "      <td>µInoculate PP9</td>\n",
       "      <td>Soil &amp; Plant Nutrition</td>\n",
       "      <td>Microorganisms</td>\n",
       "      <td>31.07.2023</td>\n",
       "    </tr>\n",
       "    <tr>\n",
       "      <th>2</th>\n",
       "      <td>4436</td>\n",
       "      <td>Biostart Ltd</td>\n",
       "      <td>Anzac Street,33A,Auckland, Takapuna 0622</td>\n",
       "      <td>µInoculate PP9</td>\n",
       "      <td>Soil &amp; Plant Nutrition</td>\n",
       "      <td>Microorganisms</td>\n",
       "      <td>31.07.2023</td>\n",
       "    </tr>\n",
       "    <tr>\n",
       "      <th>3</th>\n",
       "      <td>4472</td>\n",
       "      <td>Farmlands Co-Operative Society Ltd</td>\n",
       "      <td>Ruahapia Rd,233,Hastings, Farmlands Whakatu 4172</td>\n",
       "      <td>µInoculate PP9 (SKU# 158042)</td>\n",
       "      <td>Soil &amp; Plant Nutrition</td>\n",
       "      <td>Microorganisms</td>\n",
       "      <td>31.07.2023</td>\n",
       "    </tr>\n",
       "    <tr>\n",
       "      <th>4</th>\n",
       "      <td>2753</td>\n",
       "      <td>BdMax Ltd</td>\n",
       "      <td>Tauroa Road,32,Havelock North 4130</td>\n",
       "      <td>2573 - Bird Scare</td>\n",
       "      <td>Crop Management</td>\n",
       "      <td>Homeopathic Preparation</td>\n",
       "      <td>31.07.2023</td>\n",
       "    </tr>\n",
       "  </tbody>\n",
       "</table>\n",
       "</div>"
      ],
      "text/plain": [
       "   BioGro No                       Licensee Name   \n",
       "0       5441                       FSP Australia  \\\n",
       "1       2933   PGG Wrightson (Fruitfed Supplies)   \n",
       "2       4436                        Biostart Ltd   \n",
       "3       4472  Farmlands Co-Operative Society Ltd   \n",
       "4       2753                           BdMax Ltd   \n",
       "\n",
       "                                            Address   \n",
       "0             Octal Street,20,Brisbane, Yatala 4207  \\\n",
       "1          Westwood Avenue,20,Blenheim, Springlands   \n",
       "2          Anzac Street,33A,Auckland, Takapuna 0622   \n",
       "3  Ruahapia Rd,233,Hastings, Farmlands Whakatu 4172   \n",
       "4                Tauroa Road,32,Havelock North 4130   \n",
       "\n",
       "                                          Input Name                Sub Type   \n",
       "0  “Reggie Post” Innovative Intermediate Trellis ...         Farm Management  \\\n",
       "1                                     µInoculate PP9  Soil & Plant Nutrition   \n",
       "2                                     µInoculate PP9  Soil & Plant Nutrition   \n",
       "3                       µInoculate PP9 (SKU# 158042)  Soil & Plant Nutrition   \n",
       "4                                  2573 - Bird Scare         Crop Management   \n",
       "\n",
       "                              Category Expiry Date  \n",
       "0  Crop Husbandry / Orchard Management  31.07.2023  \n",
       "1                       Microorganisms  31.07.2023  \n",
       "2                       Microorganisms  31.07.2023  \n",
       "3                       Microorganisms  31.07.2023  \n",
       "4              Homeopathic Preparation  31.07.2023  "
      ]
     },
     "execution_count": 19,
     "metadata": {},
     "output_type": "execute_result"
    }
   ],
   "source": [
    "df.head()"
   ]
  },
  {
   "cell_type": "code",
   "execution_count": 37,
   "metadata": {},
   "outputs": [],
   "source": [
    "df.to_csv(\"BioGroClean.csv\", index=False)"
   ]
  },
  {
   "attachments": {},
   "cell_type": "markdown",
   "metadata": {},
   "source": [
    "Count and Unique values"
   ]
  },
  {
   "cell_type": "code",
   "execution_count": 20,
   "metadata": {},
   "outputs": [
    {
     "data": {
      "text/plain": [
       "BioGro No        1000\n",
       "Licensee Name    1000\n",
       "Address          1000\n",
       "Input Name       1000\n",
       "Sub Type         1000\n",
       "Category          885\n",
       "Expiry Date      1000\n",
       "dtype: int64"
      ]
     },
     "execution_count": 20,
     "metadata": {},
     "output_type": "execute_result"
    }
   ],
   "source": [
    "df.count()"
   ]
  },
  {
   "cell_type": "code",
   "execution_count": 22,
   "metadata": {},
   "outputs": [
    {
     "data": {
      "text/plain": [
       "121"
      ]
     },
     "execution_count": 22,
     "metadata": {},
     "output_type": "execute_result"
    }
   ],
   "source": [
    "len(df[\"Licensee Name\"].unique())"
   ]
  },
  {
   "cell_type": "code",
   "execution_count": 28,
   "metadata": {},
   "outputs": [
    {
     "data": {
      "text/plain": [
       "37"
      ]
     },
     "execution_count": 28,
     "metadata": {},
     "output_type": "execute_result"
    }
   ],
   "source": [
    "len(df[\"Category\"].unique())"
   ]
  },
  {
   "cell_type": "code",
   "execution_count": 25,
   "metadata": {},
   "outputs": [
    {
     "data": {
      "text/plain": [
       "Sub Type\n",
       "Soil & Plant Nutrition         465\n",
       "Crop Management                216\n",
       "Livestock Treatment            128\n",
       "Livestock Feed / Supplement     87\n",
       "Facility Management             54\n",
       "Seeds and Planting Stock        45\n",
       "Farm Management                  3\n",
       "Apiary Management                2\n",
       "Name: count, dtype: int64"
      ]
     },
     "execution_count": 25,
     "metadata": {},
     "output_type": "execute_result"
    }
   ],
   "source": [
    "# Crops, Lifestock, soil & plant\n",
    "df[\"Sub Type\"].value_counts()"
   ]
  },
  {
   "cell_type": "code",
   "execution_count": 32,
   "metadata": {},
   "outputs": [
    {
     "data": {
      "text/plain": [
       "Expiry Date\n",
       "31.07.2023    939\n",
       "30.09.2023     45\n",
       "31.07.2024      5\n",
       "31.03.2023      4\n",
       "30.11.2023      2\n",
       "30.06.2023      2\n",
       "31.08.2023      1\n",
       "31.12.2023      1\n",
       "23.12.2023      1\n",
       "Name: count, dtype: int64"
      ]
     },
     "execution_count": 32,
     "metadata": {},
     "output_type": "execute_result"
    }
   ],
   "source": [
    "# Some companies have had their licenses expired. Majority nearing the expiry\n",
    "df[\"Expiry Date\"].value_counts()"
   ]
  },
  {
   "cell_type": "code",
   "execution_count": 33,
   "metadata": {},
   "outputs": [
    {
     "data": {
      "text/html": [
       "<div>\n",
       "<style scoped>\n",
       "    .dataframe tbody tr th:only-of-type {\n",
       "        vertical-align: middle;\n",
       "    }\n",
       "\n",
       "    .dataframe tbody tr th {\n",
       "        vertical-align: top;\n",
       "    }\n",
       "\n",
       "    .dataframe thead th {\n",
       "        text-align: right;\n",
       "    }\n",
       "</style>\n",
       "<table border=\"1\" class=\"dataframe\">\n",
       "  <thead>\n",
       "    <tr style=\"text-align: right;\">\n",
       "      <th></th>\n",
       "      <th>BioGro No</th>\n",
       "      <th>Licensee Name</th>\n",
       "      <th>Address</th>\n",
       "      <th>Input Name</th>\n",
       "      <th>Sub Type</th>\n",
       "      <th>Category</th>\n",
       "      <th>Expiry Date</th>\n",
       "    </tr>\n",
       "  </thead>\n",
       "  <tbody>\n",
       "    <tr>\n",
       "      <th>727</th>\n",
       "      <td>6185</td>\n",
       "      <td>Arxada NZ Ltd</td>\n",
       "      <td>Hudson Road,13-15,New Plymouth 4312</td>\n",
       "      <td>Esteem</td>\n",
       "      <td>Crop Management</td>\n",
       "      <td>Pesticide</td>\n",
       "      <td>23.12.2023</td>\n",
       "    </tr>\n",
       "  </tbody>\n",
       "</table>\n",
       "</div>"
      ],
      "text/plain": [
       "     BioGro No  Licensee Name                              Address Input Name   \n",
       "727       6185  Arxada NZ Ltd  Hudson Road,13-15,New Plymouth 4312     Esteem  \\\n",
       "\n",
       "            Sub Type   Category Expiry Date  \n",
       "727  Crop Management  Pesticide  23.12.2023  "
      ]
     },
     "execution_count": 33,
     "metadata": {},
     "output_type": "execute_result"
    }
   ],
   "source": [
    "# Only one company ending on the 23rd vs end of the month\n",
    "df[df[\"Expiry Date\"] == \"23.12.2023\"]"
   ]
  },
  {
   "cell_type": "code",
   "execution_count": 35,
   "metadata": {},
   "outputs": [
    {
     "data": {
      "text/plain": [
       "Licensee Name\n",
       "Homeopathic Farm Services Ltd         109\n",
       "Farmlands Co-Operative Society Ltd     80\n",
       "PGG Wrightson (Fruitfed Supplies)      72\n",
       "Horticentre Ltd                        56\n",
       "Kings Seeds NZ Ltd                     45\n",
       "Rorisons RMD Ltd                       36\n",
       "Kiwi Fertiliser Co Ltd                 27\n",
       "Agrifert (NZ) Limited                  22\n",
       "IXOM Operations Pty Ltd                21\n",
       "Fertco 2016 Ltd                        20\n",
       "Name: count, dtype: int64"
      ]
     },
     "execution_count": 35,
     "metadata": {},
     "output_type": "execute_result"
    }
   ],
   "source": [
    "df[\"Licensee Name\"].value_counts().sort_values(ascending=False).head(10)\n",
    "# Homeopathic Farm Services is the biggest player in the game"
   ]
  },
  {
   "cell_type": "code",
   "execution_count": null,
   "metadata": {},
   "outputs": [],
   "source": []
  }
 ],
 "metadata": {
  "kernelspec": {
   "display_name": ".venv",
   "language": "python",
   "name": "python3"
  },
  "language_info": {
   "codemirror_mode": {
    "name": "ipython",
    "version": 3
   },
   "file_extension": ".py",
   "mimetype": "text/x-python",
   "name": "python",
   "nbconvert_exporter": "python",
   "pygments_lexer": "ipython3",
   "version": "3.10.0"
  },
  "orig_nbformat": 4
 },
 "nbformat": 4,
 "nbformat_minor": 2
}
